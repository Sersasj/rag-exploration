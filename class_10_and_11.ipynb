{
 "cells": [
  {
   "cell_type": "code",
   "execution_count": null,
   "id": "601ce568",
   "metadata": {},
   "outputs": [],
   "source": [
    "# Routing\n",
    "# routing is used to select source that is most relevant to the question\n",
    "# two different approaches:\n",
    "# 1 - Logical Routing: Based on the question, select the most relevant source\n",
    "# 2 - Semantic Routing: Based on the question, select the most relevant source based on semantic similarity"
   ]
  }
 ],
 "metadata": {
  "language_info": {
   "name": "python"
  }
 },
 "nbformat": 4,
 "nbformat_minor": 5
}
