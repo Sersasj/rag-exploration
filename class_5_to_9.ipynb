{
 "cells": [
  {
   "cell_type": "code",
   "execution_count": null,
   "id": "d5483d59",
   "metadata": {},
   "outputs": [],
   "source": [
    "#Overview\n",
    "#\n",
    "#A simple and standart pipeline for RAG is\n",
    "#Question --> Indexing --> Retrieval --> Generation --> Response\n",
    "#Indexing is the process of creating a index of the documents. This is done by encoding\n",
    "#the documents into a vector space. In tutorial it used OpenAI's embedding model.\n",
    "#Here I'm going to use ollama to run locally without an API key.\n",
    "#\n",
    "#\n",
    "#Documents are going to be about chess opening moves.\n",
    "#Why Chess? Because my knowledge brain has been roting and my elo decaied from 1700 to 1300\n",
    "#And I have a tournament in 2 weeks :p\n",
    "#And, the document is kind of difficult to read\n",
    "#\n",
    "#Steps here are\n",
    "#Load pdf; read it; embed and store\n",
    "#Load questing; ebed;\n",
    "#Retrieve relevant part from pdf"
   ]
  },
  {
   "cell_type": "code",
   "execution_count": 1,
   "id": "16b3f398",
   "metadata": {},
   "outputs": [],
   "source": [
    "from dotenv import load_dotenv\n",
    "load_dotenv()\n",
    "import os\n",
    "os.environ['LANGCHAIN_TRACING_V2'] = 'true'\n",
    "os.environ['LANGCHAIN_ENDPOINT'] = 'https://api.smith.langchain.com'\n",
    "# os.environ[\"LANGCHAIN_API_KEY\"] = xxxx\n",
    "\n",
    "import bs4\n",
    "from langchain import hub\n",
    "from langchain.text_splitter import RecursiveCharacterTextSplitter\n",
    "from langchain_docling import DoclingLoader\n",
    "from langchain_community.vectorstores import Chroma\n",
    "from langchain_core.output_parsers import StrOutputParser\n",
    "from langchain_core.runnables import RunnablePassthrough\n",
    "from langchain_ollama import OllamaEmbeddings, ChatOllama\n",
    "from langchain_community.vectorstores.utils import filter_complex_metadata \n",
    "\n",
    "import glob\n",
    "from langchain.prompts import ChatPromptTemplate\n"
   ]
  },
  {
   "cell_type": "code",
   "execution_count": 2,
   "id": "30e1a2e6",
   "metadata": {},
   "outputs": [],
   "source": [
    "question = \"What is opening theory? Provide section from the document.\"\n",
    "doc_path = \"/home/sersasj/rag-exploration/docs_to_index/FCO_Fundamental_Chess_Openings-1-10.pdf\""
   ]
  },
  {
   "cell_type": "code",
   "execution_count": 3,
   "id": "fd52d19a",
   "metadata": {},
   "outputs": [
    {
     "name": "stderr",
     "output_type": "stream",
     "text": [
      "The plugin langchain_docling will not be loaded because Docling is being executed with allow_external_plugins=false.\n",
      "The plugin langchain_docling will not be loaded because Docling is being executed with allow_external_plugins=false.\n",
      "Token indices sequence length is longer than the specified maximum sequence length for this model (532 > 512). Running this sequence through the model will result in indexing errors\n"
     ]
    }
   ],
   "source": [
    "loader = DoclingLoader(file_path=doc_path)\n",
    "docs = loader.load()\n",
    "\n",
    "text_splitter = RecursiveCharacterTextSplitter(chunk_size=1000, chunk_overlap=200)\n",
    "chunks = text_splitter.split_documents(docs)\n",
    "\n",
    "chunks = filter_complex_metadata(chunks) \n",
    "\n"
   ]
  },
  {
   "cell_type": "code",
   "execution_count": 4,
   "id": "86eef372",
   "metadata": {},
   "outputs": [
    {
     "name": "stdout",
     "output_type": "stream",
     "text": [
      "Number of documents in vectorstore: 27\n"
     ]
    }
   ],
   "source": [
    "from langchain_community.vectorstores import Chroma\n",
    "\n",
    "embeddings = OllamaEmbeddings(model=\"llama3\")\n",
    "vectorstore = Chroma.from_documents(documents=chunks, embedding=embeddings)\n",
    "\n",
    "retriever = vectorstore.as_retriever()\n",
    "\n",
    "print(f\"Number of documents in vectorstore: {vectorstore._collection.count()}\")\n"
   ]
  },
  {
   "cell_type": "code",
   "execution_count": 5,
   "id": "dda51a51",
   "metadata": {},
   "outputs": [
    {
     "name": "stdout",
     "output_type": "stream",
     "text": [
      "4\n",
      "[Document(metadata={'source': '/home/sersasj/rag-exploration/docs_to_index/FCO_Fundamental_Chess_Openings-1-10.pdf'}, page_content='Introduction\\nIn the colossal body of  chess literature, no aspect of the game has been treated as extensively as th openings.  In varying  degrees  of expertise,  clarity  and depth,  thousands  of books  discuss  ever imaginable and unimaginable opening the game of chess has to  offer.  This is a process that wi never stop. As long as a particular opening is being played, its variations will be worked out deepe and deeper and assessments will be modified on the basis of these new  experiences. As long a chess is alive, its opening theory will also be alive and new books will be needed to document all o this new life.'), Document(metadata={'source': '/home/sersasj/rag-exploration/docs_to_index/FCO_Fundamental_Chess_Openings-1-10.pdf'}, page_content='What is  Opening Theory?\\nEveryone who devotes even the tiniest amount of thought to his first move not only makes a sta with that particular game but also with the development of opening theory. From that moment o every new game will confront him with the starting position again and therefore with his earli thoughts on it. Also he will sooner or later find out that millions of other players have pondered ex actly the same problems and, whether he wants to or not, he will to some extent start comparing hi own ideas about how to start a game with theirs.'), Document(metadata={'source': '/home/sersasj/rag-exploration/docs_to_index/FCO_Fundamental_Chess_Openings-1-10.pdf'}, page_content='The  First  Move\\nThis  means  that  practically  from  the  start, theory of the 1 d4 openings has been developed by players whose general outlook on chess was similar to ours today.  That is why almost all of these openings are still very much alive, which can hardly be said of the  1 e4  complex. Espe\\xad cially in the 1 e4 e5, section quite a lot of  the old theory has by now been shelved permanently.'), Document(metadata={'source': '/home/sersasj/rag-exploration/docs_to_index/FCO_Fundamental_Chess_Openings-1-10.pdf'}, page_content='It is therefore of the utmost importance for a chess-player to find his own personal balance be\\xad tween knowing too much and knowing too little. The purpose of studying opening theory should not be accumulating any set amount of  knowledge, but being content with whatever knowledge one has. For someone with a natural flair for study, it may be perfect to work on openings all the time. For someone who is much less scientifically minded, even the slightest attempt to study openings may well be superfluous and even detrimental to his game.')]\n"
     ]
    }
   ],
   "source": [
    "docs = retriever.invoke(question)\n",
    "print(len(docs))\n",
    "print(docs)"
   ]
  },
  {
   "cell_type": "code",
   "execution_count": 6,
   "id": "00a3d566",
   "metadata": {},
   "outputs": [],
   "source": [
    "\n",
    "\n",
    "template = \"\"\" \n",
    "Awnser the question based on the context provided.\n",
    "\n",
    "Context: {context}\n",
    "Question: {question}\n",
    "\n",
    "\n",
    "\"\"\"\n",
    "\n",
    "prompt = ChatPromptTemplate.from_template(template)\n",
    "\n"
   ]
  },
  {
   "cell_type": "code",
   "execution_count": 7,
   "id": "9ea19512",
   "metadata": {},
   "outputs": [],
   "source": [
    "llm = ChatOllama(model=\"llama3\")\n"
   ]
  },
  {
   "cell_type": "code",
   "execution_count": 8,
   "id": "6a05bbb6",
   "metadata": {},
   "outputs": [],
   "source": [
    "chain = prompt | llm"
   ]
  },
  {
   "cell_type": "code",
   "execution_count": 9,
   "id": "8622f043",
   "metadata": {},
   "outputs": [
    {
     "data": {
      "text/plain": [
       "AIMessage(content='According to the provided context, the answer to the question \"What is Opening Theory?\" can be found in the second document.\\n\\nHere\\'s the relevant section:\\n\\n\"What is  Opening Theory?\\\\nEveryone who devotes even the tiniest amount of thought to his first move not only makes a sta with that particular game but also with the development of opening theory. From that moment o every new game will confront him with the starting position again and therefore with his earli thoughts on it. Also he will sooner or later find out that millions of other players have pondered ex actly the same problems and, whether he wants to or not, he will to some extent start comparing hi own ideas about how to start a game with theirs.\"', additional_kwargs={}, response_metadata={'model': 'llama3', 'created_at': '2025-10-15T19:46:10.135363966Z', 'done': True, 'done_reason': 'stop', 'total_duration': 1718460988, 'load_duration': 13537675, 'prompt_eval_count': 656, 'prompt_eval_duration': 135844283, 'eval_count': 148, 'eval_duration': 1568424931, 'model_name': 'llama3'}, id='run--85dbd931-d82c-454f-b018-0ec5ac384fce-0', usage_metadata={'input_tokens': 656, 'output_tokens': 148, 'total_tokens': 804})"
      ]
     },
     "execution_count": 9,
     "metadata": {},
     "output_type": "execute_result"
    }
   ],
   "source": [
    "chain.invoke({\"context\":docs,\"question\":question})"
   ]
  },
  {
   "cell_type": "code",
   "execution_count": 13,
   "id": "c1079cce",
   "metadata": {},
   "outputs": [
    {
     "data": {
      "text/plain": [
       "'According to the provided context, the question \"What is Opening Theory?\" is answered in the document with the following content:\\n\\n\"Everyone who devotes even the tiniest amount of thought to his first move not only makes a start with that particular game but also with the development of opening theory. From that moment on every new game will confront him with the starting position again and therefore with his early thoughts on it. Also he will sooner or later find out that millions of other players have pondered exactly the same problems and, whether he wants to or not, he will to some extent start comparing his own ideas about how to start a game with theirs.\"\\n\\n(Source: Document(metadata={\\'source\\': \\'/home/sersasj/rag-exploration/docs_to_index/FCO_Fundamental_Chess_Openings-1-10.pdf\\'}, page_content=\\'What is  Opening Theory?\\\\n...\\')'"
      ]
     },
     "execution_count": 13,
     "metadata": {},
     "output_type": "execute_result"
    }
   ],
   "source": [
    "\n",
    "\n",
    "from langchain_core.output_parsers import StrOutputParser\n",
    "from langchain_core.runnables import RunnablePassthrough\n",
    "\n",
    "rag_chain = (\n",
    "    {\"context\": retriever, \"question\": RunnablePassthrough()}\n",
    "    | prompt\n",
    "    | llm\n",
    "    | StrOutputParser()\n",
    ")\n",
    "\n",
    "rag_chain.invoke(question)\n",
    "\n"
   ]
  }
 ],
 "metadata": {
  "kernelspec": {
   "display_name": "Python 3",
   "language": "python",
   "name": "python3"
  },
  "language_info": {
   "codemirror_mode": {
    "name": "ipython",
    "version": 3
   },
   "file_extension": ".py",
   "mimetype": "text/x-python",
   "name": "python",
   "nbconvert_exporter": "python",
   "pygments_lexer": "ipython3",
   "version": "3.10.12"
  }
 },
 "nbformat": 4,
 "nbformat_minor": 5
}
